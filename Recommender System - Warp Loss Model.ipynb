{
 "cells": [
  {
   "cell_type": "code",
   "execution_count": 13,
   "metadata": {},
   "outputs": [],
   "source": [
    "import numpy as np\n",
    "from lightfm.datasets import fetch_movielens\n",
    "from lightfm import LightFM"
   ]
  },
  {
   "cell_type": "code",
   "execution_count": 14,
   "metadata": {},
   "outputs": [
    {
     "name": "stdout",
     "output_type": "stream",
     "text": [
      "<943x1682 sparse matrix of type '<class 'numpy.int32'>'\n",
      "\twith 49906 stored elements in COOrdinate format>\n",
      "<943x1682 sparse matrix of type '<class 'numpy.int32'>'\n",
      "\twith 5469 stored elements in COOrdinate format>\n"
     ]
    }
   ],
   "source": [
    "# Fetch the movie data \n",
    "data = fetch_movielens(min_rating=4.0)\n",
    "\n",
    "print(repr(data['train']))\n",
    "print(repr(data['test']))"
   ]
  },
  {
   "cell_type": "code",
   "execution_count": 15,
   "metadata": {},
   "outputs": [
    {
     "data": {
      "text/plain": [
       "<lightfm.lightfm.LightFM at 0x1b722ed3f98>"
      ]
     },
     "execution_count": 15,
     "metadata": {},
     "output_type": "execute_result"
    }
   ],
   "source": [
    "# create a model\n",
    "model = LightFM(loss='warp')\n",
    "\n",
    "# train model on the training data\n",
    "model.fit(data['train'], epochs=30, num_threads=2)"
   ]
  },
  {
   "cell_type": "code",
   "execution_count": 16,
   "metadata": {},
   "outputs": [],
   "source": [
    "def sample_recommendation(model, data, user_ids):\n",
    "    #number of users and movies in training data\n",
    "    n_users, n_items = data['train'].shape\n",
    "                          \n",
    "    # Loop for each user\n",
    "    for user_id in user_ids:\n",
    "        known_positives = data['item_labels'][data['train'].tocsr()[user_id].indices]\n",
    "        \n",
    "        # movies our model predicts for them\n",
    "        scores = model.predict(user_id, np.arange(n_items))\n",
    "        \n",
    "        # sort/rank them in order of most to least liked\n",
    "        top_ranked_items = data['item_labels'][np.argsort(-scores)]\n",
    "        \n",
    "        #print results\n",
    "        print(\"User %s\" % user_id)\n",
    "        print(\"     Known Positives:\")\n",
    "        \n",
    "        for i in known_positives[:3]:\n",
    "            print(\"      %s\" % i)\n",
    "        \n",
    "        print(\"     Recommended:\")\n",
    "        \n",
    "        count = 1\n",
    "        for x in top_ranked_items[:3]:\n",
    "            print(count,\"      %s\" % x)\n",
    "            count = count + 1\n",
    "    \n",
    "    sample_recommendation(model, data, [3,25,450])"
   ]
  },
  {
   "cell_type": "code",
   "execution_count": null,
   "metadata": {},
   "outputs": [],
   "source": []
  }
 ],
 "metadata": {
  "kernelspec": {
   "display_name": "Python 3",
   "language": "python",
   "name": "python3"
  },
  "language_info": {
   "codemirror_mode": {
    "name": "ipython",
    "version": 3
   },
   "file_extension": ".py",
   "mimetype": "text/x-python",
   "name": "python",
   "nbconvert_exporter": "python",
   "pygments_lexer": "ipython3",
   "version": "3.6.5"
  }
 },
 "nbformat": 4,
 "nbformat_minor": 2
}
